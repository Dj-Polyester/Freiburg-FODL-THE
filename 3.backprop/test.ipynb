{
 "cells": [
  {
   "cell_type": "code",
   "execution_count": 1,
   "metadata": {},
   "outputs": [],
   "source": [
    "import torch\n",
    "from torch import nn, optim"
   ]
  },
  {
   "cell_type": "code",
   "execution_count": 2,
   "metadata": {},
   "outputs": [],
   "source": [
    "# training set\n",
    "X = torch.tensor([[0., 0.],\n",
    "              [0., 1.],\n",
    "              [1., 0.],\n",
    "              [1., 1.]])\n",
    "\n",
    "# true labels\n",
    "y = torch.tensor([0, 1, 1, 0])"
   ]
  },
  {
   "cell_type": "code",
   "execution_count": 3,
   "metadata": {},
   "outputs": [
    {
     "data": {
      "text/plain": [
       "(tensor([[0., 0.],\n",
       "         [0., 1.],\n",
       "         [1., 0.],\n",
       "         [1., 1.]]),\n",
       " tensor([0, 1, 1, 0]))"
      ]
     },
     "execution_count": 3,
     "metadata": {},
     "output_type": "execute_result"
    }
   ],
   "source": [
    "X,y"
   ]
  },
  {
   "cell_type": "code",
   "execution_count": 4,
   "metadata": {},
   "outputs": [],
   "source": [
    "linear_units = 2\n",
    "model = nn.Sequential(\n",
    "    nn.Linear(2, linear_units),\n",
    "    nn.ReLU(),\n",
    "    nn.Linear(linear_units, 2),\n",
    ")\n",
    "lossfun = nn.CrossEntropyLoss()\n",
    "optimizer = optim.SGD(model.parameters(),lr=0.5)"
   ]
  },
  {
   "cell_type": "code",
   "execution_count": 5,
   "metadata": {},
   "outputs": [],
   "source": [
    "def changeWeights(model):\n",
    "    for layer in model:\n",
    "        if hasattr(layer, \"weight\"):\n",
    "            layer.weight.data = 0.01 * torch.randn(layer.in_features, layer.out_features)\n",
    "            layer.bias.data = 0.01 * torch.ones(layer.out_features)"
   ]
  },
  {
   "cell_type": "code",
   "execution_count": 6,
   "metadata": {},
   "outputs": [
    {
     "name": "stdout",
     "output_type": "stream",
     "text": [
      "0.weight tensor([[-0.0062,  0.0008],\n",
      "        [-0.0125, -0.0020]]) None\n",
      "0.bias tensor([0.0100, 0.0100]) None\n",
      "2.weight tensor([[ 0.0022, -0.0085],\n",
      "        [ 0.0064,  0.0187]]) None\n",
      "2.bias tensor([0.0100, 0.0100]) None\n"
     ]
    }
   ],
   "source": [
    "changeWeights(model)\n",
    "for name,param in model.named_parameters():\n",
    "    print(name, param.data, param.grad)"
   ]
  },
  {
   "cell_type": "code",
   "execution_count": 7,
   "metadata": {},
   "outputs": [],
   "source": [
    "y_hat = model(X)\n",
    "loss = lossfun(y_hat, y)"
   ]
  },
  {
   "cell_type": "code",
   "execution_count": 8,
   "metadata": {},
   "outputs": [
    {
     "data": {
      "text/plain": [
       "tensor(0.6932, grad_fn=<NllLossBackward0>)"
      ]
     },
     "execution_count": 8,
     "metadata": {},
     "output_type": "execute_result"
    }
   ],
   "source": [
    "loss"
   ]
  },
  {
   "cell_type": "code",
   "execution_count": 9,
   "metadata": {},
   "outputs": [
    {
     "data": {
      "text/plain": [
       "tensor([[0.0099, 0.0103],\n",
       "        [0.0100, 0.0102],\n",
       "        [0.0100, 0.0100],\n",
       "        [0.0100, 0.0100]], grad_fn=<AddmmBackward0>)"
      ]
     },
     "execution_count": 9,
     "metadata": {},
     "output_type": "execute_result"
    }
   ],
   "source": [
    "y_hat"
   ]
  },
  {
   "cell_type": "code",
   "execution_count": 10,
   "metadata": {},
   "outputs": [
    {
     "name": "stderr",
     "output_type": "stream",
     "text": [
      "/tmp/ipykernel_9096/2330496213.py:1: UserWarning: Implicit dimension choice for softmax has been deprecated. Change the call to include dim=X as an argument.\n",
      "  nn.Softmax()(y_hat)\n"
     ]
    },
    {
     "data": {
      "text/plain": [
       "tensor([[0.4999, 0.5001],\n",
       "        [0.4999, 0.5001],\n",
       "        [0.5000, 0.5000],\n",
       "        [0.5000, 0.5000]], grad_fn=<SoftmaxBackward0>)"
      ]
     },
     "execution_count": 10,
     "metadata": {},
     "output_type": "execute_result"
    }
   ],
   "source": [
    "nn.Softmax()(y_hat)"
   ]
  },
  {
   "cell_type": "code",
   "execution_count": 11,
   "metadata": {},
   "outputs": [],
   "source": [
    "optimizer.zero_grad()\n",
    "y_hat.retain_grad()\n",
    "loss.backward()"
   ]
  },
  {
   "cell_type": "code",
   "execution_count": 13,
   "metadata": {},
   "outputs": [
    {
     "name": "stdout",
     "output_type": "stream",
     "text": [
      "None\n"
     ]
    }
   ],
   "source": [
    "print(y_hat.grad)"
   ]
  },
  {
   "cell_type": "code",
   "execution_count": 14,
   "metadata": {},
   "outputs": [
    {
     "name": "stdout",
     "output_type": "stream",
     "text": [
      "0.weight tensor([[-0.0062,  0.0008],\n",
      "        [-0.0125, -0.0020]]) tensor([[ 8.8476e-09,  7.2643e-08],\n",
      "        [ 0.0000e+00, -3.4067e-03]])\n",
      "0.bias tensor([0.0100, 0.0100]) tensor([1.5734e-07, 9.8348e-07])\n",
      "2.weight tensor([[ 0.0022, -0.0085],\n",
      "        [ 0.0064,  0.0187]]) tensor([[-3.8376e-07, -2.4651e-04],\n",
      "        [ 3.8376e-07,  2.4651e-04]])\n",
      "2.bias tensor([0.0100, 0.0100]) tensor([-3.8259e-05,  3.8251e-05])\n"
     ]
    }
   ],
   "source": [
    "for name,param in model.named_parameters():\n",
    "    print(name, param.data, param.grad)"
   ]
  },
  {
   "cell_type": "code",
   "execution_count": 15,
   "metadata": {},
   "outputs": [],
   "source": [
    "optimizer.step()"
   ]
  },
  {
   "cell_type": "code",
   "execution_count": 16,
   "metadata": {},
   "outputs": [],
   "source": [
    "y_hat = model(X)\n",
    "loss = lossfun(y_hat, y)"
   ]
  },
  {
   "cell_type": "code",
   "execution_count": 17,
   "metadata": {},
   "outputs": [
    {
     "data": {
      "text/plain": [
       "tensor([[0.0100, 0.0102],\n",
       "        [0.0100, 0.0102],\n",
       "        [0.0100, 0.0100],\n",
       "        [0.0100, 0.0100]], grad_fn=<AddmmBackward0>)"
      ]
     },
     "execution_count": 17,
     "metadata": {},
     "output_type": "execute_result"
    }
   ],
   "source": [
    "y_hat"
   ]
  },
  {
   "cell_type": "code",
   "execution_count": 18,
   "metadata": {},
   "outputs": [
    {
     "data": {
      "text/plain": [
       "tensor(0.6931, grad_fn=<NllLossBackward0>)"
      ]
     },
     "execution_count": 18,
     "metadata": {},
     "output_type": "execute_result"
    }
   ],
   "source": [
    "loss"
   ]
  }
 ],
 "metadata": {
  "kernelspec": {
   "display_name": "datascience",
   "language": "python",
   "name": "python3"
  },
  "language_info": {
   "codemirror_mode": {
    "name": "ipython",
    "version": 3
   },
   "file_extension": ".py",
   "mimetype": "text/x-python",
   "name": "python",
   "nbconvert_exporter": "python",
   "pygments_lexer": "ipython3",
   "version": "3.11.5"
  }
 },
 "nbformat": 4,
 "nbformat_minor": 2
}
