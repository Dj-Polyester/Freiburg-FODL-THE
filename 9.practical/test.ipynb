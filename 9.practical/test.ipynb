{
 "cells": [
  {
   "cell_type": "code",
   "execution_count": 1,
   "metadata": {},
   "outputs": [],
   "source": [
    "import torch\n",
    "from torch import nn, optim\n",
    "from torch.utils.data import DataLoader\n",
    "from torchvision.datasets import MNIST\n",
    "from torchvision import transforms as T\n",
    "from matplotlib import pyplot as plt\n",
    "import numpy as np\n"
   ]
  },
  {
   "cell_type": "code",
   "execution_count": 2,
   "metadata": {},
   "outputs": [],
   "source": [
    "mnist = MNIST(\n",
    "    \"../mnist\",\n",
    "    train=True,\n",
    "    download=True,\n",
    "    transform=T.Compose(\n",
    "        [\n",
    "            T.ToTensor(),\n",
    "            T.Lambda(lambda x: torch.flatten(x)),\n",
    "        ]\n",
    "    ),\n",
    ")\n",
    "loader = DataLoader(mnist, batch_size=10000, shuffle=False)\n"
   ]
  },
  {
   "cell_type": "code",
   "execution_count": 3,
   "metadata": {},
   "outputs": [],
   "source": [
    "device = \"cuda\"\n",
    "\n",
    "\n",
    "def initparams(model: nn.Module):\n",
    "    for param in model.parameters():\n",
    "        torch.manual_seed(42)\n",
    "        param.data = nn.Parameter(torch.randn(param.data.shape)).to(device)\n",
    "\n",
    "\n",
    "net1 = nn.Sequential(nn.Linear(784, 256), nn.ReLU(), nn.Linear(256, 10)).to(device)\n",
    "net2 = nn.Sequential(\n",
    "    nn.Linear(784, 256), nn.BatchNorm1d(784), nn.ReLU(), nn.Linear(256, 10)\n",
    ").to(device)\n",
    "initparams(net1)\n",
    "initparams(net2)\n",
    "lossfun = nn.CrossEntropyLoss()\n",
    "optimizer1 = optim.SGD(net1.parameters(), lr=0.01)\n",
    "optimizer2 = optim.SGD(net2.parameters(), lr=0.01)\n",
    "\n",
    "\n",
    "def train(net, optimizer, epochs=10):\n",
    "    for i in range(epochs):\n",
    "        for j, (X, y) in enumerate(loader):\n",
    "            X, y = X.to(device), y.to(device)\n",
    "            y_hat = net(X)\n",
    "            loss = lossfun(y_hat, y)\n",
    "            optimizer.zero_grad(True)\n",
    "            loss.backward()\n",
    "            optimizer.step()\n",
    "\n"
   ]
  },
  {
   "cell_type": "code",
   "execution_count": 4,
   "metadata": {},
   "outputs": [],
   "source": [
    "train(net1, optimizer1)\n"
   ]
  },
  {
   "cell_type": "code",
   "execution_count": 5,
   "metadata": {},
   "outputs": [],
   "source": [
    "train(net1, optimizer2)\n",
    "\n"
   ]
  },
  {
   "cell_type": "code",
   "execution_count": 14,
   "metadata": {},
   "outputs": [],
   "source": [
    "def get_norm_weights(net: nn.Module):\n",
    "    normWeights = None\n",
    "    for param in net.parameters():\n",
    "        flattenedWeights = torch.flatten(param.data).cpu()\n",
    "        normWeights = flattenedWeights**2 if normWeights == None else torch.hstack((normWeights, flattenedWeights**2))\n",
    "    return normWeights"
   ]
  },
  {
   "cell_type": "code",
   "execution_count": 15,
   "metadata": {},
   "outputs": [],
   "source": [
    "norm_weights1 = get_norm_weights(net1)\n",
    "norm_weights2 = get_norm_weights(net2)"
   ]
  },
  {
   "cell_type": "code",
   "execution_count": null,
   "metadata": {},
   "outputs": [],
   "source": [
    "x1,b1 = np.histogram(norm_weights1)\n",
    "x2,b2 = np.histogram(norm_weights2)"
   ]
  },
  {
   "cell_type": "code",
   "execution_count": 16,
   "metadata": {},
   "outputs": [
    {
     "data": {
      "image/png": "[encoded data removed]",
      "text/plain": [
       "<Figure size 640x480 with 2 Axes>"
      ]
     },
     "metadata": {},
     "output_type": "display_data"
    }
   ],
   "source": [
    "fig, axs = plt.subplots(1, 2)\n",
    "axs[0].hist(x1,b1)\n",
    "axs[1].hist(x2,b2)\n",
    "plt.show()\n"
   ]
  },
  {
   "cell_type": "code",
   "execution_count": null,
   "metadata": {},
   "outputs": [],
   "source": [
    "import torch\n",
    "import torch.nn as nn\n",
    "import torch.optim as optim\n",
    "from lib.models import ConvNet4\n",
    "from conv5 import (\n",
    "    ConvNet5,\n",
    "    convblock_normal,\n",
    "    convblock_mobile,\n",
    "    convblock_mobile2,\n",
    "    calcParams,\n",
    ")\n",
    "from lib.utils import create_dataloaders\n",
    "import itertools\n",
    "\n",
    "if torch.cuda.is_available():\n",
    "    device = torch.device(\"cuda\")\n",
    "else:\n",
    "    device = torch.device(\"cpu\")\n",
    "print(f\"Running on device: {device}\")\n",
    "\n"
   ]
  },
  {
   "cell_type": "code",
   "execution_count": null,
   "metadata": {},
   "outputs": [],
   "source": [
    "def train_and_evaluate(net, num_epochs=10) -> None:\n",
    "    \"\"\"Train and evaluate the given model\n",
    "\n",
    "    Args:\n",
    "        net: CNN model to train\n",
    "        num_epochs: Number of epochs to train\n",
    "\n",
    "    \"\"\"\n",
    "    net = net.to(device)\n",
    "\n",
    "    # Define a Loss function and optimizer\n",
    "    criterion = nn.CrossEntropyLoss()\n",
    "    optimizer = optim.SGD(net.parameters(), lr=0.001, momentum=0.9)\n",
    "\n",
    "    # Get dataloaders\n",
    "    trainloader, testloader = create_dataloaders()\n",
    "    losses = torch.zeros(num_epochs)\n",
    "    net.train()\n",
    "    # Train the network\n",
    "    for epoch in range(num_epochs):\n",
    "        avg_loss = 0.0\n",
    "        for inputs, labels in trainloader:\n",
    "            inputs = inputs.to(device)\n",
    "            labels = labels.to(device)\n",
    "            optimizer.zero_grad()\n",
    "            outputs = net(inputs)\n",
    "            loss = criterion(outputs, labels)\n",
    "            loss.backward()\n",
    "            optimizer.step()\n",
    "            avg_loss += loss.item()\n",
    "        losses[epoch] = avg_loss / len(trainloader)\n",
    "\n",
    "    print(\"Finished Training\")\n",
    "\n",
    "    correct = 0\n",
    "    total = 0\n",
    "    net.eval()\n",
    "    with torch.no_grad():\n",
    "        for inputs, labels in testloader:\n",
    "            inputs = inputs.to(device)\n",
    "            labels = labels.to(device)\n",
    "            outputs = net(inputs)\n",
    "            _, predicted = torch.max(outputs.data, 1)\n",
    "            total += labels.size(0)\n",
    "            correct += (predicted == labels).sum().item()\n",
    "\n",
    "    acc = 100 * correct / total\n",
    "    return losses, acc\n",
    "\n"
   ]
  },
  {
   "cell_type": "code",
   "execution_count": null,
   "metadata": {},
   "outputs": [],
   "source": [
    "hyperParams = {\n",
    "    \"convblock_variant\": [convblock_mobile2],\n",
    "    \"preserve_size_after_conv_layer\": [True],\n",
    "    \"num_conv_blocks\": [4, 6, 8],\n",
    "    \"initial_num_channels_power\": [5, 6, 7],\n",
    "    \"pooldegree\": [2, 4, 8],\n",
    "}\n",
    "\n"
   ]
  },
  {
   "cell_type": "code",
   "execution_count": null,
   "metadata": {},
   "outputs": [],
   "source": [
    "def cond(**kwargs):\n",
    "    preserve_size_after_conv_layer = kwargs[\"preserve_size_after_conv_layer\"]\n",
    "    num_conv_blocks = kwargs[\"num_conv_blocks\"]\n",
    "    pooldegree = kwargs[\"pooldegree\"]\n",
    "\n",
    "    _, calc_out_size, __ = calcParams(preserve_size_after_conv_layer, pooldegree)\n",
    "\n",
    "    last_activation_size = calc_out_size(32, num_conv_blocks)\n",
    "    if pooldegree != None:\n",
    "        last_activation_size //= pooldegree\n",
    "    return last_activation_size > 0\n",
    "\n",
    "\n",
    "def hyperparamGen(condition=lambda **_: True, **kwargs):\n",
    "    keys = kwargs.keys()\n",
    "    vals = kwargs.values()\n",
    "    for instance in itertools.product(*vals):\n",
    "        config = dict(zip(keys, instance))\n",
    "        if condition(**config):\n",
    "            yield config\n",
    "\n",
    "\n",
    "for i, kwargs in enumerate(hyperparamGen(condition=cond, **hyperParams)):\n",
    "    print(f\"{i}) {kwargs}\")\n"
   ]
  },
  {
   "cell_type": "code",
   "execution_count": null,
   "metadata": {},
   "outputs": [],
   "source": [
    "maxacc = 0\n",
    "maxi = None\n",
    "for i, kwargs in enumerate(hyperparamGen(condition=cond, **hyperParams)):\n",
    "    print(f\"{i}) {kwargs}\")\n",
    "    filenameparams = \"_\".join(\n",
    "        [\n",
    "            v.__name__ if hasattr(v, \"__name__\") else f\"{k}_{v}\"\n",
    "            for k, v in kwargs.items()\n",
    "        ]\n",
    "    )\n",
    "    filename = f\"results/conv5_{filenameparams}.txt\"\n",
    "    with open(filename, \"w\") as f:\n",
    "        torch.manual_seed(1337)  # for deterministic runs\n",
    "        net = ConvNet5(**kwargs)\n",
    "        numel = 0\n",
    "        for param in net.parameters():\n",
    "            numel += param.numel()\n",
    "        print(f\"Number of params: {numel}\", file=f)\n",
    "        losses, acc = train_and_evaluate(net)\n",
    "        print(f\"Accuracy of the network on test images:{acc}\", file=f)\n",
    "        if acc > maxacc:\n",
    "            maxacc = acc\n",
    "            maxi = i\n",
    "print(f\"Best hyperparams:{list(hyperparamGen(lambda **_: True, **hyperParams))[maxi]}\")\n",
    "print(f\"Best acc:{maxacc}\")\n"
   ]
  }
 ],
 "metadata": {
  "language_info": {
   "codemirror_mode": {
    "name": "ipython",
    "version": 3
   },
   "file_extension": ".py",
   "mimetype": "text/x-python",
   "name": "python",
   "nbconvert_exporter": "python",
   "pygments_lexer": "ipython3",
   "version": 3
  }
 },
 "nbformat": 4,
 "nbformat_minor": 2
}
